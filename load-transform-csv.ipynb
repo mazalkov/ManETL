{
 "cells": [
  {
   "cell_type": "code",
   "execution_count": 1,
   "id": "be9f72dc",
   "metadata": {},
   "outputs": [],
   "source": [
    "import pandas as pd\n",
    "import numpy as np"
   ]
  },
  {
   "cell_type": "code",
   "execution_count": 2,
   "id": "51ec4c7a",
   "metadata": {},
   "outputs": [],
   "source": [
    "IMA_df = pd.read_csv('data/AAPL.csv')"
   ]
  },
  {
   "cell_type": "code",
   "execution_count": 3,
   "id": "60f83e5c",
   "metadata": {},
   "outputs": [
    {
     "data": {
      "text/html": [
       "<div>\n",
       "<style scoped>\n",
       "    .dataframe tbody tr th:only-of-type {\n",
       "        vertical-align: middle;\n",
       "    }\n",
       "\n",
       "    .dataframe tbody tr th {\n",
       "        vertical-align: top;\n",
       "    }\n",
       "\n",
       "    .dataframe thead th {\n",
       "        text-align: right;\n",
       "    }\n",
       "</style>\n",
       "<table border=\"1\" class=\"dataframe\">\n",
       "  <thead>\n",
       "    <tr style=\"text-align: right;\">\n",
       "      <th></th>\n",
       "      <th>Date</th>\n",
       "      <th>Open</th>\n",
       "      <th>High</th>\n",
       "      <th>Low</th>\n",
       "      <th>Close</th>\n",
       "      <th>Adj Close</th>\n",
       "      <th>Volume</th>\n",
       "    </tr>\n",
       "  </thead>\n",
       "  <tbody>\n",
       "    <tr>\n",
       "      <th>0</th>\n",
       "      <td>2022-01-03</td>\n",
       "      <td>177.830002</td>\n",
       "      <td>182.880005</td>\n",
       "      <td>177.710007</td>\n",
       "      <td>182.009995</td>\n",
       "      <td>180.434280</td>\n",
       "      <td>104487900</td>\n",
       "    </tr>\n",
       "    <tr>\n",
       "      <th>1</th>\n",
       "      <td>2022-01-04</td>\n",
       "      <td>182.630005</td>\n",
       "      <td>182.940002</td>\n",
       "      <td>179.119995</td>\n",
       "      <td>179.699997</td>\n",
       "      <td>178.144302</td>\n",
       "      <td>99310400</td>\n",
       "    </tr>\n",
       "    <tr>\n",
       "      <th>2</th>\n",
       "      <td>2022-01-05</td>\n",
       "      <td>179.610001</td>\n",
       "      <td>180.169998</td>\n",
       "      <td>174.639999</td>\n",
       "      <td>174.919998</td>\n",
       "      <td>173.405670</td>\n",
       "      <td>94537600</td>\n",
       "    </tr>\n",
       "    <tr>\n",
       "      <th>3</th>\n",
       "      <td>2022-01-06</td>\n",
       "      <td>172.699997</td>\n",
       "      <td>175.300003</td>\n",
       "      <td>171.639999</td>\n",
       "      <td>172.000000</td>\n",
       "      <td>170.510971</td>\n",
       "      <td>96904000</td>\n",
       "    </tr>\n",
       "    <tr>\n",
       "      <th>4</th>\n",
       "      <td>2022-01-07</td>\n",
       "      <td>172.889999</td>\n",
       "      <td>174.139999</td>\n",
       "      <td>171.029999</td>\n",
       "      <td>172.169998</td>\n",
       "      <td>170.679489</td>\n",
       "      <td>86709100</td>\n",
       "    </tr>\n",
       "  </tbody>\n",
       "</table>\n",
       "</div>"
      ],
      "text/plain": [
       "         Date        Open        High         Low       Close   Adj Close  \\\n",
       "0  2022-01-03  177.830002  182.880005  177.710007  182.009995  180.434280   \n",
       "1  2022-01-04  182.630005  182.940002  179.119995  179.699997  178.144302   \n",
       "2  2022-01-05  179.610001  180.169998  174.639999  174.919998  173.405670   \n",
       "3  2022-01-06  172.699997  175.300003  171.639999  172.000000  170.510971   \n",
       "4  2022-01-07  172.889999  174.139999  171.029999  172.169998  170.679489   \n",
       "\n",
       "      Volume  \n",
       "0  104487900  \n",
       "1   99310400  \n",
       "2   94537600  \n",
       "3   96904000  \n",
       "4   86709100  "
      ]
     },
     "execution_count": 3,
     "metadata": {},
     "output_type": "execute_result"
    }
   ],
   "source": [
    "IMA_df.head()"
   ]
  },
  {
   "cell_type": "code",
   "execution_count": null,
   "id": "97043ea3",
   "metadata": {},
   "outputs": [],
   "source": [
    "#VWAP = (cum typical price * volume)/cum volume\n",
    "#typical price = mean of high low and close"
   ]
  },
  {
   "cell_type": "code",
   "execution_count": 16,
   "id": "02c011bb",
   "metadata": {},
   "outputs": [],
   "source": [
    "def VWAP(high, low, close):\n",
    "    typical_price = np.mean([high, low, close])\n",
    "    return typical_price"
   ]
  },
  {
   "cell_type": "code",
   "execution_count": 19,
   "id": "918fda9a",
   "metadata": {
    "scrolled": true
   },
   "outputs": [
    {
     "data": {
      "text/html": [
       "<div>\n",
       "<style scoped>\n",
       "    .dataframe tbody tr th:only-of-type {\n",
       "        vertical-align: middle;\n",
       "    }\n",
       "\n",
       "    .dataframe tbody tr th {\n",
       "        vertical-align: top;\n",
       "    }\n",
       "\n",
       "    .dataframe thead th {\n",
       "        text-align: right;\n",
       "    }\n",
       "</style>\n",
       "<table border=\"1\" class=\"dataframe\">\n",
       "  <thead>\n",
       "    <tr style=\"text-align: right;\">\n",
       "      <th></th>\n",
       "      <th>Date</th>\n",
       "      <th>Open</th>\n",
       "      <th>High</th>\n",
       "      <th>Low</th>\n",
       "      <th>Close</th>\n",
       "      <th>Adj Close</th>\n",
       "      <th>Volume</th>\n",
       "      <th>VWAP</th>\n",
       "    </tr>\n",
       "  </thead>\n",
       "  <tbody>\n",
       "    <tr>\n",
       "      <th>0</th>\n",
       "      <td>2022-01-03</td>\n",
       "      <td>177.830002</td>\n",
       "      <td>182.880005</td>\n",
       "      <td>177.710007</td>\n",
       "      <td>182.009995</td>\n",
       "      <td>180.434280</td>\n",
       "      <td>104487900</td>\n",
       "      <td>180.866669</td>\n",
       "    </tr>\n",
       "    <tr>\n",
       "      <th>1</th>\n",
       "      <td>2022-01-04</td>\n",
       "      <td>182.630005</td>\n",
       "      <td>182.940002</td>\n",
       "      <td>179.119995</td>\n",
       "      <td>179.699997</td>\n",
       "      <td>178.144302</td>\n",
       "      <td>99310400</td>\n",
       "      <td>180.586665</td>\n",
       "    </tr>\n",
       "    <tr>\n",
       "      <th>2</th>\n",
       "      <td>2022-01-05</td>\n",
       "      <td>179.610001</td>\n",
       "      <td>180.169998</td>\n",
       "      <td>174.639999</td>\n",
       "      <td>174.919998</td>\n",
       "      <td>173.405670</td>\n",
       "      <td>94537600</td>\n",
       "      <td>176.576665</td>\n",
       "    </tr>\n",
       "    <tr>\n",
       "      <th>3</th>\n",
       "      <td>2022-01-06</td>\n",
       "      <td>172.699997</td>\n",
       "      <td>175.300003</td>\n",
       "      <td>171.639999</td>\n",
       "      <td>172.000000</td>\n",
       "      <td>170.510971</td>\n",
       "      <td>96904000</td>\n",
       "      <td>172.980001</td>\n",
       "    </tr>\n",
       "    <tr>\n",
       "      <th>4</th>\n",
       "      <td>2022-01-07</td>\n",
       "      <td>172.889999</td>\n",
       "      <td>174.139999</td>\n",
       "      <td>171.029999</td>\n",
       "      <td>172.169998</td>\n",
       "      <td>170.679489</td>\n",
       "      <td>86709100</td>\n",
       "      <td>172.446665</td>\n",
       "    </tr>\n",
       "  </tbody>\n",
       "</table>\n",
       "</div>"
      ],
      "text/plain": [
       "         Date        Open        High         Low       Close   Adj Close  \\\n",
       "0  2022-01-03  177.830002  182.880005  177.710007  182.009995  180.434280   \n",
       "1  2022-01-04  182.630005  182.940002  179.119995  179.699997  178.144302   \n",
       "2  2022-01-05  179.610001  180.169998  174.639999  174.919998  173.405670   \n",
       "3  2022-01-06  172.699997  175.300003  171.639999  172.000000  170.510971   \n",
       "4  2022-01-07  172.889999  174.139999  171.029999  172.169998  170.679489   \n",
       "\n",
       "      Volume        VWAP  \n",
       "0  104487900  180.866669  \n",
       "1   99310400  180.586665  \n",
       "2   94537600  176.576665  \n",
       "3   96904000  172.980001  \n",
       "4   86709100  172.446665  "
      ]
     },
     "execution_count": 19,
     "metadata": {},
     "output_type": "execute_result"
    }
   ],
   "source": [
    "IMA_df['VWAP'] = IMA_df.apply(lambda x: VWAP(x[\"High\"], x[\"Low\"], x[\"Close\"]), axis=1)\n",
    "IMA_df.head()"
   ]
  },
  {
   "cell_type": "code",
   "execution_count": 20,
   "id": "94441f51",
   "metadata": {},
   "outputs": [],
   "source": [
    "def daily_returns():\n",
    "    total_returns = (Close * Volume)\n",
    "    return total_returns"
   ]
  },
  {
   "cell_type": "code",
   "execution_count": null,
   "id": "db8e536e",
   "metadata": {},
   "outputs": [],
   "source": [
    "IMA_df['Total Returns'] = "
   ]
  }
 ],
 "metadata": {
  "kernelspec": {
   "display_name": "Python 3 (ipykernel)",
   "language": "python",
   "name": "python3"
  },
  "language_info": {
   "codemirror_mode": {
    "name": "ipython",
    "version": 3
   },
   "file_extension": ".py",
   "mimetype": "text/x-python",
   "name": "python",
   "nbconvert_exporter": "python",
   "pygments_lexer": "ipython3",
   "version": "3.9.7"
  }
 },
 "nbformat": 4,
 "nbformat_minor": 5
}
